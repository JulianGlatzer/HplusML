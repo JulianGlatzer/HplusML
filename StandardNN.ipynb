{
  "nbformat": 4,
  "nbformat_minor": 0,
  "metadata": {
    "colab": {
      "name": "StandardNN.ipynb",
      "version": "0.3.2",
      "provenance": [],
      "toc_visible": true
    },
    "kernelspec": {
      "name": "python2",
      "display_name": "Python 2"
    },
    "accelerator": "GPU"
  },
  "cells": [
    {
      "metadata": {
        "id": "SToXn9cW3IOE",
        "colab_type": "text"
      },
      "cell_type": "markdown",
      "source": [
        "# Documentation for Standard Keras Neural Network\n",
        "- ROC AUC for different masses\n",
        "- learning curve\n",
        "- validation curves"
      ]
    },
    {
      "metadata": {
        "id": "CLErMjtd3IPo",
        "colab_type": "text"
      },
      "cell_type": "markdown",
      "source": [
        "# Standard imports"
      ]
    },
    {
      "metadata": {
        "id": "sicod41w3L1U",
        "colab_type": "code",
        "colab": {
          "base_uri": "https://localhost:8080/",
          "height": 219
        },
        "outputId": "f56ad785-c000-4966-d5d3-02315926f6ab"
      },
      "cell_type": "code",
      "source": [
        "! wget https://jglatzer.web.cern.ch/jglatzer/hpml/pandas_ge6jge4b.h5"
      ],
      "execution_count": 154,
      "outputs": [
        {
          "output_type": "stream",
          "text": [
            "--2019-02-27 13:41:46--  https://jglatzer.web.cern.ch/jglatzer/hpml/pandas_ge6jge4b.h5\n",
            "Resolving jglatzer.web.cern.ch (jglatzer.web.cern.ch)... 188.184.64.89, 2001:1458:201:a4::100:53\n",
            "Connecting to jglatzer.web.cern.ch (jglatzer.web.cern.ch)|188.184.64.89|:443... connected.\n",
            "HTTP request sent, awaiting response... 200 OK\n",
            "Length: 83895032 (80M) [text/plain]\n",
            "Saving to: ‘pandas_ge6jge4b.h5.1’\n",
            "\n",
            "pandas_ge6jge4b.h5. 100%[===================>]  80.01M  19.0MB/s    in 7.7s    \n",
            "\n",
            "2019-02-27 13:41:55 (10.4 MB/s) - ‘pandas_ge6jge4b.h5.1’ saved [83895032/83895032]\n",
            "\n"
          ],
          "name": "stdout"
        }
      ]
    },
    {
      "metadata": {
        "id": "BZ39MhTB4YWM",
        "colab_type": "code",
        "colab": {
          "base_uri": "https://localhost:8080/",
          "height": 127
        },
        "outputId": "e2c179a8-d21b-4b93-d17b-36079e967cc7"
      },
      "cell_type": "code",
      "source": [
        "\n",
        "! git clone https://github.com/JulianGlatzer/HplusML\n",
        "import sys\n",
        "sys.path.append(\"HplusML\")\n",
        "#! export PYTHONPATH=$PYTHONPATH:`pwd`/HplusML\n",
        "#! echo $PYTHONPATH"
      ],
      "execution_count": 1,
      "outputs": [
        {
          "output_type": "stream",
          "text": [
            "Cloning into 'HplusML'...\n",
            "remote: Enumerating objects: 46, done.\u001b[K\n",
            "remote: Counting objects: 100% (46/46), done.\u001b[K\n",
            "remote: Compressing objects: 100% (34/34), done.\u001b[K\n",
            "remote: Total 46 (delta 19), reused 38 (delta 11), pack-reused 0\u001b[K\n",
            "Unpacking objects: 100% (46/46), done.\n"
          ],
          "name": "stdout"
        }
      ]
    },
    {
      "metadata": {
        "id": "2oG6NzW43IPo",
        "colab_type": "code",
        "colab": {}
      },
      "cell_type": "code",
      "source": [
        "import pandas as pd\n",
        "import numpy as np\n",
        "import matplotlib.pyplot as plt\n",
        "#import HpAlgorithms\n",
        "import HpMLUtils\n",
        "import HpMLPlots\n",
        "import HpHyperParameterOptimisation\n",
        "import HpTrainingFrame"
      ],
      "execution_count": 0,
      "outputs": []
    },
    {
      "metadata": {
        "id": "0xqlysJb3IPo",
        "colab_type": "code",
        "colab": {
          "base_uri": "https://localhost:8080/",
          "height": 35
        },
        "outputId": "e85e733a-9be0-421e-c966-27dfaf651ad1"
      },
      "cell_type": "code",
      "source": [
        "df_mc=pd.read_hdf('pandas_ge6jge4b.h5', 'INC_ge6jge4b')\n",
        "df_mc=df_mc[df_mc.process.apply(lambda x: True if x in [\"ttlight\",\"ttb\",\"ttc\",\"Hp800\"] else False)]\n",
        "#print df_mc.process.shape\n",
        "df_mc['process'].unique()"
      ],
      "execution_count": 156,
      "outputs": [
        {
          "output_type": "execute_result",
          "data": {
            "text/plain": [
              "array(['ttlight', 'ttc', 'ttb', 'Hp800'], dtype=object)"
            ]
          },
          "metadata": {
            "tags": []
          },
          "execution_count": 156
        }
      ]
    },
    {
      "metadata": {
        "id": "9M04Xq3z3IPo",
        "colab_type": "code",
        "colab": {
          "base_uri": "https://localhost:8080/",
          "height": 127
        },
        "outputId": "941432df-6cfe-4cca-cfaf-ea0c49289261"
      },
      "cell_type": "code",
      "source": [
        "df_mc.columns"
      ],
      "execution_count": 157,
      "outputs": [
        {
          "output_type": "execute_result",
          "data": {
            "text/plain": [
              "Index([u'index', u'Muu_MindR_70', u'nJets', u'Mbb_MindR_70', u'HT_jets',\n",
              "       u'H1_all', u'Mjjj_MaxPt', u'Mbb_MaxPt_70', u'dRbb_avg_70',\n",
              "       u'eventNumber', u'pT_jet5', u'dRlepbb_MindR_70', u'nBTags_70',\n",
              "       u'Mbb_MaxM_70', u'jet_pt', u'Centrality_all', u'weight', u'process',\n",
              "       u'group', u'region', u'pT_jet1', u'hpmass'],\n",
              "      dtype='object')"
            ]
          },
          "metadata": {
            "tags": []
          },
          "execution_count": 157
        }
      ]
    },
    {
      "metadata": {
        "id": "Lfwh7L5J3IPo",
        "colab_type": "text"
      },
      "cell_type": "markdown",
      "source": [
        "# Prepare data for H+ classification"
      ]
    },
    {
      "metadata": {
        "id": "GhxvNuv73IPo",
        "colab_type": "text"
      },
      "cell_type": "markdown",
      "source": [
        "split into test and training data"
      ]
    },
    {
      "metadata": {
        "id": "shdNbmxn3IPo",
        "colab_type": "code",
        "colab": {}
      },
      "cell_type": "code",
      "source": [
        "htf=HpTrainingFrame.HpTrainingFrame(df_mc) "
      ],
      "execution_count": 0,
      "outputs": []
    },
    {
      "metadata": {
        "id": "DxUXNLJ83IPo",
        "colab_type": "code",
        "colab": {
          "base_uri": "https://localhost:8080/",
          "height": 3690
        },
        "outputId": "1bfb1ae0-a16c-4ac2-a49d-2cf6b5fe56b8"
      },
      "cell_type": "code",
      "source": [
        "from HpMLUtils import WeightedStandardScaler, summarizeFitData,MultiSBWeightsScaler\n",
        "X_train, X_test, X_eval, y_train, y_test,y_eval, w_train, w_test, w_eval=htf.prepare(hpmass=800)\n",
        "summarizeFitData(X_train, y_train, w=w_train)\n",
        "\n",
        "sb=MultiSBWeightsScaler(backgroundclass=0)\n",
        "sb.fit(X_train,y_train, sample_weight=w_train)\n",
        "X_train=sb.transform(X_train,y_train, sample_weight=w_train)\n",
        "X_test=sb.transform(X_test,y_test, sample_weight=w_test)\n",
        "#w_train.groupby(y_train).sum()\n",
        "summarizeFitData(X_train, y_train, w=w_train)\n",
        "\n",
        "wss=WeightedStandardScaler()\n",
        "wss.fit(X_train,sample_weight=w_train)\n",
        "X_train=wss.transform(X_train)\n",
        "X_test=wss.transform(X_test)\n",
        "#X_eval=wss.transform(X_eval)\n",
        "summarizeFitData(X_train, y_train, w=w_train)\n",
        "summarizeFitData(X_test, y_test, w=w_test)"
      ],
      "execution_count": 160,
      "outputs": [
        {
          "output_type": "stream",
          "text": [
            "X.shape= (23068, 14) y.shape= (23068,) w.shape= (23068,)\n",
            "columns= Index([u'nJets', u'nBTags_70', u'pT_jet1', u'Mbb_MindR_70', u'pT_jet5',\n",
            "       u'H1_all', u'dRbb_avg_70', u'dRlepbb_MindR_70', u'Muu_MindR_70',\n",
            "       u'HT_jets', u'Mbb_MaxPt_70', u'Mbb_MaxM_70', u'Mjjj_MaxPt',\n",
            "       u'Centrality_all'],\n",
            "      dtype='object')\n",
            "categories= [0, 1]\n",
            "\n",
            "sum of weights per category\n",
            "       all 1464.08896891\n",
            "         0 1457.10675797\n",
            "         1 6.98221093499\n",
            "\n",
            "\n",
            "average\n",
            "  variable/class        all          0          1\n",
            "           nJets       6.99       6.99       7.43\n",
            "       nBTags_70       4.06       4.06        4.1\n",
            "         pT_jet1   1.77e+05   1.77e+05   2.96e+05\n",
            "    Mbb_MindR_70   7.76e+04   7.73e+04   1.33e+05\n",
            "         pT_jet5   5.06e+04   5.05e+04   6.68e+04\n",
            "          H1_all      0.226      0.227      0.182\n",
            "     dRbb_avg_70       2.28       2.28       2.42\n",
            "dRlepbb_MindR_70       2.31       2.31       2.17\n",
            "    Muu_MindR_70   1.05e+05   1.05e+05   1.06e+05\n",
            "         HT_jets   5.69e+05   5.68e+05   8.62e+05\n",
            "    Mbb_MaxPt_70   1.66e+05   1.66e+05   2.75e+05\n",
            "     Mbb_MaxM_70   3.18e+05   3.17e+05   5.08e+05\n",
            "      Mjjj_MaxPt   3.03e+05   3.02e+05    4.3e+05\n",
            "  Centrality_all      0.566      0.566      0.608\n",
            "\n",
            "\n",
            "variance\n",
            "  variable/class        all          0          1\n",
            "           nJets       1.32       1.32       1.73\n",
            "       nBTags_70     0.0668     0.0667      0.101\n",
            "         pT_jet1   1.06e+10   1.05e+10   1.12e+10\n",
            "    Mbb_MindR_70    2.5e+09   2.47e+09   7.36e+09\n",
            "         pT_jet5   4.01e+08   3.98e+08   7.05e+08\n",
            "          H1_all     0.0464     0.0465     0.0334\n",
            "     dRbb_avg_70      0.159      0.159      0.133\n",
            "dRlepbb_MindR_70      0.789      0.789       0.87\n",
            "    Muu_MindR_70   1.02e+10   1.02e+10   1.12e+10\n",
            "         HT_jets   5.91e+10   5.87e+10   5.73e+10\n",
            "    Mbb_MaxPt_70   1.86e+10   1.85e+10   3.25e+10\n",
            "     Mbb_MaxM_70   3.65e+10   3.63e+10   4.26e+10\n",
            "      Mjjj_MaxPt   4.93e+10   4.91e+10    6.8e+10\n",
            "  Centrality_all      0.019      0.019     0.0169\n",
            "\n",
            "\n",
            "X.shape= (23068, 14) y.shape= (23068,) w.shape= (23068,)\n",
            "columns= Index([u'nJets', u'nBTags_70', u'pT_jet1', u'Mbb_MindR_70', u'pT_jet5',\n",
            "       u'H1_all', u'dRbb_avg_70', u'dRlepbb_MindR_70', u'Muu_MindR_70',\n",
            "       u'HT_jets', u'Mbb_MaxPt_70', u'Mbb_MaxM_70', u'Mjjj_MaxPt',\n",
            "       u'Centrality_all'],\n",
            "      dtype='object')\n",
            "categories= [0, 1]\n",
            "\n",
            "sum of weights per category\n",
            "       all        1.0\n",
            "         0        0.5\n",
            "         1        0.5\n",
            "\n",
            "\n",
            "average\n",
            "  variable/class        all          0          1\n",
            "           nJets       7.21       6.99       7.43\n",
            "       nBTags_70       4.08       4.06        4.1\n",
            "         pT_jet1   2.36e+05   1.77e+05   2.96e+05\n",
            "    Mbb_MindR_70   1.05e+05   7.73e+04   1.33e+05\n",
            "         pT_jet5   5.86e+04   5.05e+04   6.68e+04\n",
            "          H1_all      0.204      0.227      0.182\n",
            "     dRbb_avg_70       2.35       2.28       2.42\n",
            "dRlepbb_MindR_70       2.24       2.31       2.17\n",
            "    Muu_MindR_70   1.05e+05   1.05e+05   1.06e+05\n",
            "         HT_jets   7.15e+05   5.68e+05   8.62e+05\n",
            "    Mbb_MaxPt_70    2.2e+05   1.66e+05   2.75e+05\n",
            "     Mbb_MaxM_70   4.12e+05   3.17e+05   5.08e+05\n",
            "      Mjjj_MaxPt   3.66e+05   3.02e+05    4.3e+05\n",
            "  Centrality_all      0.587      0.566      0.608\n",
            "\n",
            "\n",
            "variance\n",
            "  variable/class        all          0          1\n",
            "           nJets       1.57       1.32       1.73\n",
            "       nBTags_70     0.0844     0.0667      0.101\n",
            "         pT_jet1   1.44e+10   1.05e+10   1.12e+10\n",
            "    Mbb_MindR_70   5.68e+09   2.47e+09   7.36e+09\n",
            "         pT_jet5   6.18e+08   3.98e+08   7.05e+08\n",
            "          H1_all     0.0404     0.0465     0.0334\n",
            "     dRbb_avg_70      0.151      0.159      0.133\n",
            "dRlepbb_MindR_70      0.835      0.789       0.87\n",
            "    Muu_MindR_70   1.07e+10   1.02e+10   1.12e+10\n",
            "         HT_jets   7.96e+10   5.87e+10   5.73e+10\n",
            "    Mbb_MaxPt_70   2.85e+10   1.85e+10   3.25e+10\n",
            "     Mbb_MaxM_70   4.86e+10   3.63e+10   4.26e+10\n",
            "      Mjjj_MaxPt   6.26e+10   4.91e+10    6.8e+10\n",
            "  Centrality_all     0.0184      0.019     0.0169\n",
            "\n",
            "\n",
            "X.shape= (23068, 14) y.shape= (23068,) w.shape= (23068,)\n",
            "columns= Index([u'nJets', u'nBTags_70', u'pT_jet1', u'Mbb_MindR_70', u'pT_jet5',\n",
            "       u'H1_all', u'dRbb_avg_70', u'dRlepbb_MindR_70', u'Muu_MindR_70',\n",
            "       u'HT_jets', u'Mbb_MaxPt_70', u'Mbb_MaxM_70', u'Mjjj_MaxPt',\n",
            "       u'Centrality_all'],\n",
            "      dtype='object')\n",
            "categories= [0, 1]\n",
            "\n",
            "sum of weights per category\n",
            "       all        1.0\n",
            "         0        0.5\n",
            "         1        0.5\n",
            "\n",
            "\n",
            "average\n",
            "  variable/class        all          0          1\n",
            "           nJets  -1.21e-15     -0.176      0.176\n",
            "       nBTags_70  -8.13e-16    -0.0599     0.0599\n",
            "         pT_jet1  -4.34e-16     -0.495      0.495\n",
            "    Mbb_MindR_70  -4.13e-09     -0.367      0.367\n",
            "         pT_jet5   1.02e-08     -0.327      0.327\n",
            "          H1_all   4.66e-09       0.11      -0.11\n",
            "     dRbb_avg_70   6.07e-09     -0.179      0.179\n",
            "dRlepbb_MindR_70   7.66e-09     0.0779    -0.0779\n",
            "    Muu_MindR_70   7.36e-09   -0.00402    0.00402\n",
            "         HT_jets   7.74e-09     -0.521      0.521\n",
            "    Mbb_MaxPt_70  -5.96e-09     -0.324      0.324\n",
            "     Mbb_MaxM_70  -2.63e-09     -0.434      0.434\n",
            "      Mjjj_MaxPt  -4.36e-09     -0.254      0.254\n",
            "  Centrality_all  -4.84e-09     -0.155      0.155\n",
            "\n",
            "\n",
            "variance\n",
            "  variable/class        all          0          1\n",
            "           nJets        1.0      0.837        1.1\n",
            "       nBTags_70        1.0       0.79        1.2\n",
            "         pT_jet1        1.0       0.73       0.78\n",
            "    Mbb_MindR_70        1.0      0.434        1.3\n",
            "         pT_jet5        1.0      0.644       1.14\n",
            "          H1_all        1.0       1.15      0.825\n",
            "     dRbb_avg_70        1.0       1.05      0.883\n",
            "dRlepbb_MindR_70        1.0      0.945       1.04\n",
            "    Muu_MindR_70        1.0      0.954       1.05\n",
            "         HT_jets        1.0      0.737       0.72\n",
            "    Mbb_MaxPt_70        1.0      0.649       1.14\n",
            "     Mbb_MaxM_70        1.0      0.747      0.877\n",
            "      Mjjj_MaxPt        1.0      0.785       1.09\n",
            "  Centrality_all        1.0       1.03      0.921\n",
            "\n",
            "\n",
            "X.shape= (23217, 14) y.shape= (23217,) w.shape= (23217,)\n",
            "columns= Index([u'nJets', u'nBTags_70', u'pT_jet1', u'Mbb_MindR_70', u'pT_jet5',\n",
            "       u'H1_all', u'dRbb_avg_70', u'dRlepbb_MindR_70', u'Muu_MindR_70',\n",
            "       u'HT_jets', u'Mbb_MaxPt_70', u'Mbb_MaxM_70', u'Mjjj_MaxPt',\n",
            "       u'Centrality_all'],\n",
            "      dtype='object')\n",
            "categories= [0, 1]\n",
            "\n",
            "sum of weights per category\n",
            "       all 1.02716342242\n",
            "         0 0.525622390597\n",
            "         1 0.501541031821\n",
            "\n",
            "\n",
            "average\n",
            "  variable/class        all          0          1\n",
            "           nJets     0.0152     -0.174      0.213\n",
            "       nBTags_70    -0.0102     -0.061      0.043\n",
            "         pT_jet1    -0.0217     -0.511      0.491\n",
            "    Mbb_MindR_70    -0.0102     -0.378      0.375\n",
            "         pT_jet5    0.00851      -0.32      0.353\n",
            "          H1_all    0.00406      0.122      -0.12\n",
            "     dRbb_avg_70    -0.0148     -0.184      0.163\n",
            "dRlepbb_MindR_70     0.0225      0.114    -0.0732\n",
            "    Muu_MindR_70   -0.00651    0.00127    -0.0147\n",
            "         HT_jets   -0.00554     -0.524      0.538\n",
            "    Mbb_MaxPt_70   -0.00547     -0.345       0.35\n",
            "     Mbb_MaxM_70    -0.0291     -0.456      0.418\n",
            "      Mjjj_MaxPt    -0.0122     -0.267      0.255\n",
            "  Centrality_all    -0.0134     -0.184      0.165\n",
            "\n",
            "\n",
            "variance\n",
            "  variable/class        all          0          1\n",
            "           nJets       1.05      0.825       1.21\n",
            "       nBTags_70      0.951       0.75       1.15\n",
            "         pT_jet1      0.996      0.717      0.774\n",
            "    Mbb_MindR_70      0.956      0.378       1.27\n",
            "         pT_jet5       1.07      0.707       1.23\n",
            "          H1_all      0.991       1.15      0.797\n",
            "     dRbb_avg_70       1.01       1.11      0.846\n",
            "dRlepbb_MindR_70       1.02      0.952       1.08\n",
            "    Muu_MindR_70      0.908      0.905      0.912\n",
            "         HT_jets       1.06      0.805      0.759\n",
            "    Mbb_MaxPt_70       1.03      0.626        1.2\n",
            "     Mbb_MaxM_70      0.965      0.705      0.846\n",
            "      Mjjj_MaxPt        1.0      0.804       1.08\n",
            "  Centrality_all      0.964      0.972      0.893\n",
            "\n",
            "\n"
          ],
          "name": "stdout"
        }
      ]
    },
    {
      "metadata": {
        "id": "ppgmH2NiZ_8U",
        "colab_type": "code",
        "colab": {}
      },
      "cell_type": "code",
      "source": [
        "from keras.models import Sequential\n",
        "from keras.layers import Dense, Dropout\n",
        "\n",
        "def get_model(layers=[20,10,5]):\n",
        "  model = Sequential()\n",
        "  for i,layer in enumerate(layers):\n",
        "    if i==0:\n",
        "      model.add(Dense(layer, input_dim=14, activation='relu'))    \n",
        "    else:\n",
        "      model.add(Dense(layer, activation='relu'))\n",
        "    #model.add(Dropout(rate=0.5))\n",
        "  model.add(Dense(1, activation='sigmoid'))\n",
        "  #model.add(Dense(5, activation='relu'))\n",
        "  #model.add(Dense(1, input_dim=14, activation='sigmoid'))\n",
        "\n",
        "  # Compile model\n",
        "  model.compile(loss='binary_crossentropy', optimizer='adam', metrics=['binary_accuracy'])\n",
        "  model.summary()\n",
        "  return model"
      ],
      "execution_count": 0,
      "outputs": []
    },
    {
      "metadata": {
        "id": "klSbpEvoaN7o",
        "colab_type": "code",
        "colab": {
          "base_uri": "https://localhost:8080/",
          "height": 311
        },
        "outputId": "f249a936-54ae-4c8e-f5f6-8c1a63946002"
      },
      "cell_type": "code",
      "source": [
        "epochs=15\n",
        "callbacks=[keras.callbacks.EarlyStopping(monitor='val_binary_accuracy', \n",
        "                                         patience=3),\n",
        "           keras.callbacks.ModelCheckpoint(filepath='model_nn.h5', \n",
        "                                           monitor='val_loss',\n",
        "                                          save_best_only=True),\n",
        "           roc_callback(training_data=(X_train.values, y_train.values, w_train.values),validation_data=(X_test.values, y_test.values, w_test.values))\n",
        "          ]\n",
        "history=model.fit(X_train.values,y_train.values, sample_weight=w_train.values, batch_size=50, epochs=epochs, callbacks=callbacks, validation_data=(X_test.values, y_test.values, w_test.values))"
      ],
      "execution_count": 176,
      "outputs": [
        {
          "output_type": "stream",
          "text": [
            "Train on 23068 samples, validate on 23217 samples\n",
            "Epoch 1/15\n",
            "23068/23068 [==============================] - 3s 124us/step - loss: 2.0821e-05 - binary_accuracy: 0.8032 - val_loss: 2.2285e-05 - val_binary_accuracy: 0.7942\n",
            "roc-auc: 0.896 - roc-auc_val: 0.885\n",
            "Epoch 2/15\n",
            "23068/23068 [==============================] - 3s 134us/step - loss: 2.0776e-05 - binary_accuracy: 0.8048 - val_loss: 2.2351e-05 - val_binary_accuracy: 0.8037\n",
            "roc-auc: 0.8963 - roc-auc_val: 0.8855\n",
            "Epoch 3/15\n",
            "23068/23068 [==============================] - 3s 133us/step - loss: 2.0774e-05 - binary_accuracy: 0.8040 - val_loss: 2.2355e-05 - val_binary_accuracy: 0.8008\n",
            "roc-auc: 0.8963 - roc-auc_val: 0.8841\n",
            "Epoch 4/15\n",
            "23068/23068 [==============================] - 3s 133us/step - loss: 2.0805e-05 - binary_accuracy: 0.8040 - val_loss: 2.2179e-05 - val_binary_accuracy: 0.7985\n",
            "roc-auc: 0.8972 - roc-auc_val: 0.8849\n",
            "Epoch 5/15\n",
            "23068/23068 [==============================] - 3s 134us/step - loss: 2.0752e-05 - binary_accuracy: 0.8049 - val_loss: 2.2222e-05 - val_binary_accuracy: 0.7941\n",
            "roc-auc: 0.897 - roc-auc_val: 0.8843\n"
          ],
          "name": "stdout"
        }
      ]
    },
    {
      "metadata": {
        "id": "uuWQs5d0RQOM",
        "colab_type": "code",
        "colab": {
          "base_uri": "https://localhost:8080/",
          "height": 109
        },
        "outputId": "3ed91aa0-0a12-4528-fde9-25fc2a4f8a72"
      },
      "cell_type": "code",
      "source": [
        "history.history.keys()\n",
        "callbacks[2].roc_val"
      ],
      "execution_count": 180,
      "outputs": [
        {
          "output_type": "execute_result",
          "data": {
            "text/plain": [
              "[0.8850495660501853,\n",
              " 0.8854880929412016,\n",
              " 0.8840720973956541,\n",
              " 0.884863529154461,\n",
              " 0.884253822222707]"
            ]
          },
          "metadata": {
            "tags": []
          },
          "execution_count": 180
        }
      ]
    },
    {
      "metadata": {
        "id": "ywBDQZTXaUVA",
        "colab_type": "code",
        "colab": {
          "base_uri": "https://localhost:8080/",
          "height": 90
        },
        "outputId": "67bbb32e-579f-4da3-e392-dc463d76b91b"
      },
      "cell_type": "code",
      "source": [
        "for layer in model.layers:\n",
        "  print layer.name,\"out=\", layer.output[0]"
      ],
      "execution_count": 135,
      "outputs": [
        {
          "output_type": "stream",
          "text": [
            "dense_26 out= Tensor(\"strided_slice_4:0\", shape=(20,), dtype=float32)\n",
            "dense_27 out= Tensor(\"strided_slice_5:0\", shape=(10,), dtype=float32)\n",
            "dense_28 out= Tensor(\"strided_slice_6:0\", shape=(5,), dtype=float32)\n",
            "dense_29 out= Tensor(\"strided_slice_7:0\", shape=(1,), dtype=float32)\n"
          ],
          "name": "stdout"
        }
      ]
    },
    {
      "metadata": {
        "id": "UNdiVo_5Ptd4",
        "colab_type": "code",
        "colab": {}
      },
      "cell_type": "code",
      "source": [
        "from sklearn.metrics import roc_auc_score\n",
        "from keras.callbacks import Callback\n",
        "\n",
        "class roc_callback(Callback):\n",
        "    def __init__(self,training_data,validation_data):\n",
        "        self.x = training_data[0]\n",
        "        self.y = training_data[1]\n",
        "        self.w = training_data[2]\n",
        "        self.x_val = validation_data[0]\n",
        "        self.y_val = validation_data[1]\n",
        "        self.w_val = validation_data[2]\n",
        "        self.roc=[]\n",
        "        self.roc_val=[]\n",
        "    def on_train_begin(self, logs={}):\n",
        "        return\n",
        "\n",
        "    def on_train_end(self, logs={}):\n",
        "        return\n",
        "\n",
        "    def on_epoch_begin(self, epoch, logs={}):\n",
        "        return\n",
        "\n",
        "    def on_epoch_end(self, epoch, logs={}):\n",
        "        y_pred = self.model.predict(self.x)\n",
        "        roc = roc_auc_score(self.y, y_pred, sample_weight=self.w)\n",
        "        y_pred_val = self.model.predict(self.x_val)\n",
        "        roc_val = roc_auc_score(self.y_val, y_pred_val, sample_weight=self.w_val)\n",
        "        print('\\rroc-auc: %s - roc-auc_val: %s' % (str(round(roc,4)),str(round(roc_val,4))))\n",
        "        self.roc_val.append(roc_val)\n",
        "        self.roc.append(roc)\n",
        "        return\n",
        "\n",
        "    def on_batch_begin(self, batch, logs={}):\n",
        "        return\n",
        "\n",
        "    def on_batch_end(self, batch, logs={}):\n",
        "        return\n"
      ],
      "execution_count": 0,
      "outputs": []
    },
    {
      "metadata": {
        "id": "Jpry3ROZNS_8",
        "colab_type": "code",
        "colab": {
          "base_uri": "https://localhost:8080/",
          "height": 2515
        },
        "outputId": "685ee9be-5fad-4929-e92f-79f3a2d26f03"
      },
      "cell_type": "code",
      "source": [
        "from sklearn.metrics import roc_curve,roc_auc_score, auc\n",
        "\n",
        "configurations=[[14,8],\n",
        "                [20,8],\n",
        "                [14,12],\n",
        "                [20,12]\n",
        "               ]\n",
        "roc_values={}\n",
        "epochs=15\n",
        "\n",
        "\n",
        "for configuration in configurations:\n",
        "  callbacks=[keras.callbacks.EarlyStopping(monitor='val_binary_accuracy', \n",
        "                                         patience=3),\n",
        "           keras.callbacks.ModelCheckpoint(filepath='model_nn_'+str(configuration)+'.hdf5', \n",
        "                                           monitor='val_loss',\n",
        "                                          save_best_only=True)\n",
        "          ]\n",
        "  model=get_model(layers=configuration)\n",
        "  history=model.fit(X_train.values,y_train.values, sample_weight=w_train.values, batch_size=50, epochs=epochs, callbacks=callbacks, validation_data=(X_test.values, y_test.values, w_test.values))\n",
        "  model.load_weights(\"model_nn_\"+str(configuration)+\".hdf5\")\n",
        "  y_pred=model.predict(X_test).ravel()\n",
        "  roc=roc_auc_score(y_test, y_pred, sample_weight=w_test)\n",
        "  print configuration, roc\n",
        "  roc_values[str(configuration)]=roc\n",
        "\n",
        "  \n",
        "for key in roc_values.keys():\n",
        "  print key, roc_values[key]\n",
        "  \n",
        "  "
      ],
      "execution_count": 192,
      "outputs": [
        {
          "output_type": "stream",
          "text": [
            "_________________________________________________________________\n",
            "Layer (type)                 Output Shape              Param #   \n",
            "=================================================================\n",
            "dense_83 (Dense)             (None, 14)                210       \n",
            "_________________________________________________________________\n",
            "dense_84 (Dense)             (None, 8)                 120       \n",
            "_________________________________________________________________\n",
            "dense_85 (Dense)             (None, 1)                 9         \n",
            "=================================================================\n",
            "Total params: 339\n",
            "Trainable params: 339\n",
            "Non-trainable params: 0\n",
            "_________________________________________________________________\n",
            "Train on 23068 samples, validate on 23217 samples\n",
            "Epoch 1/15\n",
            "23068/23068 [==============================] - 5s 210us/step - loss: 2.8721e-05 - binary_accuracy: 0.7220 - val_loss: 2.4653e-05 - val_binary_accuracy: 0.7816\n",
            "Epoch 2/15\n",
            "23068/23068 [==============================] - 3s 133us/step - loss: 2.3663e-05 - binary_accuracy: 0.7841 - val_loss: 2.3716e-05 - val_binary_accuracy: 0.7816\n",
            "Epoch 3/15\n",
            "23068/23068 [==============================] - 3s 134us/step - loss: 2.2925e-05 - binary_accuracy: 0.7858 - val_loss: 2.3262e-05 - val_binary_accuracy: 0.7836\n",
            "Epoch 4/15\n",
            "23068/23068 [==============================] - 3s 134us/step - loss: 2.2460e-05 - binary_accuracy: 0.7884 - val_loss: 2.2874e-05 - val_binary_accuracy: 0.7868\n",
            "Epoch 5/15\n",
            "23068/23068 [==============================] - 3s 133us/step - loss: 2.2129e-05 - binary_accuracy: 0.7924 - val_loss: 2.2613e-05 - val_binary_accuracy: 0.7892\n",
            "Epoch 6/15\n",
            "23068/23068 [==============================] - 3s 134us/step - loss: 2.1889e-05 - binary_accuracy: 0.7951 - val_loss: 2.2582e-05 - val_binary_accuracy: 0.7864\n",
            "Epoch 7/15\n",
            "23068/23068 [==============================] - 3s 134us/step - loss: 2.1759e-05 - binary_accuracy: 0.7963 - val_loss: 2.2406e-05 - val_binary_accuracy: 0.7926\n",
            "Epoch 8/15\n",
            "23068/23068 [==============================] - 3s 134us/step - loss: 2.1677e-05 - binary_accuracy: 0.7967 - val_loss: 2.2379e-05 - val_binary_accuracy: 0.7980\n",
            "Epoch 9/15\n",
            "23068/23068 [==============================] - 3s 133us/step - loss: 2.1567e-05 - binary_accuracy: 0.7986 - val_loss: 2.2296e-05 - val_binary_accuracy: 0.7941\n",
            "Epoch 10/15\n",
            "23068/23068 [==============================] - 3s 133us/step - loss: 2.1536e-05 - binary_accuracy: 0.7970 - val_loss: 2.2253e-05 - val_binary_accuracy: 0.7986\n",
            "Epoch 11/15\n",
            "23068/23068 [==============================] - 3s 133us/step - loss: 2.1459e-05 - binary_accuracy: 0.7982 - val_loss: 2.2250e-05 - val_binary_accuracy: 0.8005\n",
            "Epoch 12/15\n",
            "23068/23068 [==============================] - 3s 135us/step - loss: 2.1376e-05 - binary_accuracy: 0.7989 - val_loss: 2.2209e-05 - val_binary_accuracy: 0.7978\n",
            "Epoch 13/15\n",
            "23068/23068 [==============================] - 3s 134us/step - loss: 2.1373e-05 - binary_accuracy: 0.7996 - val_loss: 2.2241e-05 - val_binary_accuracy: 0.7961\n",
            "Epoch 14/15\n",
            "23068/23068 [==============================] - 3s 134us/step - loss: 2.1357e-05 - binary_accuracy: 0.7999 - val_loss: 2.2197e-05 - val_binary_accuracy: 0.7989\n",
            "[14, 8] 0.8845479990284373\n",
            "_________________________________________________________________\n",
            "Layer (type)                 Output Shape              Param #   \n",
            "=================================================================\n",
            "dense_86 (Dense)             (None, 20)                300       \n",
            "_________________________________________________________________\n",
            "dense_87 (Dense)             (None, 8)                 168       \n",
            "_________________________________________________________________\n",
            "dense_88 (Dense)             (None, 1)                 9         \n",
            "=================================================================\n",
            "Total params: 477\n",
            "Trainable params: 477\n",
            "Non-trainable params: 0\n",
            "_________________________________________________________________\n",
            "Train on 23068 samples, validate on 23217 samples\n",
            "Epoch 1/15\n",
            "23068/23068 [==============================] - 5s 231us/step - loss: 2.6278e-05 - binary_accuracy: 0.7715 - val_loss: 2.3424e-05 - val_binary_accuracy: 0.7899\n",
            "Epoch 2/15\n",
            "23068/23068 [==============================] - 3s 135us/step - loss: 2.2872e-05 - binary_accuracy: 0.7894 - val_loss: 2.2730e-05 - val_binary_accuracy: 0.7815\n",
            "Epoch 3/15\n",
            "23068/23068 [==============================] - 3s 135us/step - loss: 2.2295e-05 - binary_accuracy: 0.7935 - val_loss: 2.2440e-05 - val_binary_accuracy: 0.7892\n",
            "Epoch 4/15\n",
            "23068/23068 [==============================] - 3s 135us/step - loss: 2.2018e-05 - binary_accuracy: 0.7960 - val_loss: 2.2383e-05 - val_binary_accuracy: 0.7890\n",
            "[20, 8] 0.8827882751761233\n",
            "_________________________________________________________________\n",
            "Layer (type)                 Output Shape              Param #   \n",
            "=================================================================\n",
            "dense_89 (Dense)             (None, 14)                210       \n",
            "_________________________________________________________________\n",
            "dense_90 (Dense)             (None, 12)                180       \n",
            "_________________________________________________________________\n",
            "dense_91 (Dense)             (None, 1)                 13        \n",
            "=================================================================\n",
            "Total params: 403\n",
            "Trainable params: 403\n",
            "Non-trainable params: 0\n",
            "_________________________________________________________________\n",
            "Train on 23068 samples, validate on 23217 samples\n",
            "Epoch 1/15\n",
            "23068/23068 [==============================] - 6s 242us/step - loss: 2.8892e-05 - binary_accuracy: 0.7395 - val_loss: 2.4060e-05 - val_binary_accuracy: 0.7876\n",
            "Epoch 2/15\n",
            "23068/23068 [==============================] - 3s 136us/step - loss: 2.3337e-05 - binary_accuracy: 0.7869 - val_loss: 2.3230e-05 - val_binary_accuracy: 0.7875\n",
            "Epoch 3/15\n",
            "23068/23068 [==============================] - 3s 136us/step - loss: 2.2768e-05 - binary_accuracy: 0.7894 - val_loss: 2.2852e-05 - val_binary_accuracy: 0.7889\n",
            "Epoch 4/15\n",
            "23068/23068 [==============================] - 3s 136us/step - loss: 2.2425e-05 - binary_accuracy: 0.7909 - val_loss: 2.2624e-05 - val_binary_accuracy: 0.7907\n",
            "Epoch 5/15\n",
            "23068/23068 [==============================] - 3s 136us/step - loss: 2.2176e-05 - binary_accuracy: 0.7936 - val_loss: 2.2500e-05 - val_binary_accuracy: 0.7934\n",
            "Epoch 6/15\n",
            "23068/23068 [==============================] - 3s 138us/step - loss: 2.1970e-05 - binary_accuracy: 0.7969 - val_loss: 2.2355e-05 - val_binary_accuracy: 0.7937\n",
            "Epoch 7/15\n",
            "23068/23068 [==============================] - 3s 135us/step - loss: 2.1823e-05 - binary_accuracy: 0.7967 - val_loss: 2.2308e-05 - val_binary_accuracy: 0.7905\n",
            "Epoch 8/15\n",
            "23068/23068 [==============================] - 3s 136us/step - loss: 2.1695e-05 - binary_accuracy: 0.7981 - val_loss: 2.2238e-05 - val_binary_accuracy: 0.7933\n",
            "Epoch 9/15\n",
            "23068/23068 [==============================] - 3s 135us/step - loss: 2.1596e-05 - binary_accuracy: 0.7994 - val_loss: 2.2261e-05 - val_binary_accuracy: 0.7910\n",
            "[14, 12] 0.8840901493907467\n",
            "_________________________________________________________________\n",
            "Layer (type)                 Output Shape              Param #   \n",
            "=================================================================\n",
            "dense_92 (Dense)             (None, 20)                300       \n",
            "_________________________________________________________________\n",
            "dense_93 (Dense)             (None, 12)                252       \n",
            "_________________________________________________________________\n",
            "dense_94 (Dense)             (None, 1)                 13        \n",
            "=================================================================\n",
            "Total params: 565\n",
            "Trainable params: 565\n",
            "Non-trainable params: 0\n",
            "_________________________________________________________________\n",
            "Train on 23068 samples, validate on 23217 samples\n",
            "Epoch 1/15\n",
            "23068/23068 [==============================] - 6s 245us/step - loss: 2.6084e-05 - binary_accuracy: 0.7585 - val_loss: 2.3637e-05 - val_binary_accuracy: 0.7842\n",
            "Epoch 2/15\n",
            "23068/23068 [==============================] - 3s 136us/step - loss: 2.2959e-05 - binary_accuracy: 0.7879 - val_loss: 2.2959e-05 - val_binary_accuracy: 0.7931\n",
            "Epoch 3/15\n",
            "23068/23068 [==============================] - 3s 135us/step - loss: 2.2409e-05 - binary_accuracy: 0.7947 - val_loss: 2.2598e-05 - val_binary_accuracy: 0.7944\n",
            "Epoch 4/15\n",
            "23068/23068 [==============================] - 3s 140us/step - loss: 2.1997e-05 - binary_accuracy: 0.7981 - val_loss: 2.2480e-05 - val_binary_accuracy: 0.7943\n",
            "Epoch 5/15\n",
            "23068/23068 [==============================] - 3s 139us/step - loss: 2.1883e-05 - binary_accuracy: 0.7999 - val_loss: 2.2429e-05 - val_binary_accuracy: 0.7917\n",
            "Epoch 6/15\n",
            "23068/23068 [==============================] - 3s 139us/step - loss: 2.1704e-05 - binary_accuracy: 0.7996 - val_loss: 2.2325e-05 - val_binary_accuracy: 0.8006\n",
            "Epoch 7/15\n",
            "23068/23068 [==============================] - 3s 138us/step - loss: 2.1609e-05 - binary_accuracy: 0.8016 - val_loss: 2.2232e-05 - val_binary_accuracy: 0.7974\n",
            "Epoch 8/15\n",
            "23068/23068 [==============================] - 3s 137us/step - loss: 2.1469e-05 - binary_accuracy: 0.8007 - val_loss: 2.2331e-05 - val_binary_accuracy: 0.8003\n",
            "Epoch 9/15\n",
            "23068/23068 [==============================] - 3s 137us/step - loss: 2.1407e-05 - binary_accuracy: 0.8015 - val_loss: 2.2225e-05 - val_binary_accuracy: 0.7921\n",
            "[20, 12] 0.8849825505106175\n",
            "[14, 8] 0.8845479990284373\n",
            "[20, 12] 0.8849825505106175\n",
            "[14, 12] 0.8840901493907467\n",
            "[20, 8] 0.8827882751761233\n"
          ],
          "name": "stdout"
        }
      ]
    },
    {
      "metadata": {
        "id": "UozeqGjnaVyw",
        "colab_type": "code",
        "colab": {
          "base_uri": "https://localhost:8080/",
          "height": 742
        },
        "outputId": "b4d8ac69-9d67-4a4a-cd0a-11c4b5135cc6"
      },
      "cell_type": "code",
      "source": [
        "import matplotlib.pyplot as plt\n",
        "print history.history.keys()\n",
        "loss_values=history.history['loss']\n",
        "val_loss_values=history.history['val_loss']\n",
        "acc_values=history.history['binary_accuracy']\n",
        "val_acc_values=history.history['val_binary_accuracy']\n",
        "\n",
        "epochs=range(1,len(acc_values)+1)\n",
        "plt.figure()\n",
        "plt.plot(epochs, loss_values, \"bo\",label=\"Training loss\")\n",
        "plt.plot(epochs, val_loss_values, \"b\",label=\"Validation loss\")\n",
        "plt.legend(loc=0)\n",
        "plt.xlabel(\"Epochs\")\n",
        "plt.ylabel(\"Loss\")\n",
        "ax=plt.figure()\n",
        "plt.plot(epochs, acc_values, \"bo\",label=\"Training acc\")\n",
        "plt.plot(epochs, val_acc_values, \"b\",label=\"Validation acc\")\n",
        "plt.legend(loc=0)\n",
        "plt.xlabel(\"Epochs\")\n",
        "plt.ylabel(\"Accuracy\")\n",
        "#print history.history.keys()\n",
        "#print lossvalues"
      ],
      "execution_count": 133,
      "outputs": [
        {
          "output_type": "stream",
          "text": [
            "['loss', 'val_binary_accuracy', 'val_loss', 'binary_accuracy']\n"
          ],
          "name": "stdout"
        },
        {
          "output_type": "execute_result",
          "data": {
            "text/plain": [
              "Text(0,0.5,'Accuracy')"
            ]
          },
          "metadata": {
            "tags": []
          },
          "execution_count": 133
        },
        {
          "output_type": "display_data",
          "data": {
            "image/png": "[encoded data removed]",
            "text/plain": [
              "<Figure size 576x396 with 1 Axes>"
            ]
          },
          "metadata": {
            "tags": []
          }
        },
        {
          "output_type": "display_data",
          "data": {
            "image/png": "[encoded data removed]",
            "text/plain": [
              "<Figure size 576x396 with 1 Axes>"
            ]
          },
          "metadata": {
            "tags": []
          }
        }
      ]
    },
    {
      "metadata": {
        "id": "B8ei0gZ1cHnI",
        "colab_type": "code",
        "colab": {
          "base_uri": "https://localhost:8080/",
          "height": 742
        },
        "outputId": "7272a0fd-db38-4223-af1e-8abf4890f03a"
      },
      "cell_type": "code",
      "source": [
        "import matplotlib.pyplot as plt\n",
        "print history.history.keys()\n",
        "loss_values=history.history['loss']\n",
        "val_loss_values=history.history['val_loss']\n",
        "acc_values=history.history['binary_accuracy']\n",
        "val_acc_values=history.history['val_binary_accuracy']\n",
        "\n",
        "epochs=range(1,len(acc_values)+1)\n",
        "plt.figure()\n",
        "plt.plot(epochs, loss_values, \"bo\",label=\"Training loss\")\n",
        "plt.plot(epochs, val_loss_values, \"b\",label=\"Validation loss\")\n",
        "plt.legend(loc=0)\n",
        "plt.xlabel(\"Epochs\")\n",
        "plt.ylabel(\"Loss\")\n",
        "ax=plt.figure()\n",
        "plt.plot(epochs, acc_values, \"bo\",label=\"Training acc\")\n",
        "plt.plot(epochs, val_acc_values, \"b\",label=\"Validation acc\")\n",
        "plt.legend(loc=0)\n",
        "plt.xlabel(\"Epochs\")\n",
        "plt.ylabel(\"Accuracy\")\n",
        "#print history.history.keys()\n",
        "#print lossvalues"
      ],
      "execution_count": 127,
      "outputs": [
        {
          "output_type": "stream",
          "text": [
            "['loss', 'val_binary_accuracy', 'val_loss', 'binary_accuracy']\n"
          ],
          "name": "stdout"
        },
        {
          "output_type": "execute_result",
          "data": {
            "text/plain": [
              "Text(0,0.5,'Accuracy')"
            ]
          },
          "metadata": {
            "tags": []
          },
          "execution_count": 127
        },
        {
          "output_type": "display_data",
          "data": {
            "image/png": "[encoded data removed]",
            "text/plain": [
              "<Figure size 576x396 with 1 Axes>"
            ]
          },
          "metadata": {
            "tags": []
          }
        },
        {
          "output_type": "display_data",
          "data": {
            "image/png": "[encoded data removed]",
            "text/plain": [
              "<Figure size 576x396 with 1 Axes>"
            ]
          },
          "metadata": {
            "tags": []
          }
        }
      ]
    },
    {
      "metadata": {
        "id": "gwRU_IuI7WtU",
        "colab_type": "code",
        "colab": {
          "base_uri": "https://localhost:8080/",
          "height": 54
        },
        "outputId": "73cf62b5-0bfb-4b3e-8a5d-a32d4a11fbd7"
      },
      "cell_type": "code",
      "source": [
        "y_pred=model.predict(X_test).ravel()"
      ],
      "execution_count": 140,
      "outputs": [
        {
          "output_type": "execute_result",
          "data": {
            "text/plain": [
              "array([0.8706987 , 0.784187  , 0.8711462 , ..., 0.96393836, 0.22757512,\n",
              "       0.29982105], dtype=float32)"
            ]
          },
          "metadata": {
            "tags": []
          },
          "execution_count": 140
        }
      ]
    },
    {
      "metadata": {
        "id": "zowEjJNt87ZE",
        "colab_type": "code",
        "colab": {
          "base_uri": "https://localhost:8080/",
          "height": 35
        },
        "outputId": "c2721d07-a237-4448-a234-8cde0bee3025"
      },
      "cell_type": "code",
      "source": [
        "from sklearn.metrics import roc_curve,roc_auc_score, auc\n",
        "y_pred=model.predict(X_test).ravel()\n",
        "print roc_auc_score(y_test, y_pred, sample_weight=w_test)"
      ],
      "execution_count": 164,
      "outputs": [
        {
          "output_type": "stream",
          "text": [
            "0.8853078263981311\n"
          ],
          "name": "stdout"
        }
      ]
    },
    {
      "metadata": {
        "id": "PbKOBcdw-dSs",
        "colab_type": "code",
        "colab": {
          "base_uri": "https://localhost:8080/",
          "height": 2019
        },
        "outputId": "e4d260fc-8dfe-4ccd-eed7-b2831c188b9f"
      },
      "cell_type": "code",
      "source": [
        "import HpAlgorithms\n",
        "clf=HpAlgorithms.getGradientBDTClassifier()\n",
        "Xbdt_train, Xbdt_test, Xbdt_eval, ybdt_train, ybdt_test,ybdt_eval, wbdt_train, wbdt_test, wbdt_eval=htf.prepare(hpmass=800)\n",
        "summarizeFitData(Xbdt_train, ybdt_train, w=wbdt_train)\n",
        "sb=MultiSBWeightsScaler(backgroundclass=0)\n",
        "sb.fit(Xbdt_train,ybdt_train, sample_weight=wbdt_train)\n",
        "Xbdt_train=sb.transform(Xbdt_train,ybdt_train, sample_weight=wbdt_train)\n",
        "Xbdt_test=sb.transform(Xbdt_test,ybdt_test, sample_weight=wbdt_test)\n",
        "summarizeFitData(Xbdt_train, ybdt_train, w=wbdt_train)\n",
        "clf.fit(Xbdt_train,ybdt_train, sample_weight=wbdt_train)"
      ],
      "execution_count": 148,
      "outputs": [
        {
          "output_type": "stream",
          "text": [
            "X.shape= (23068, 14) y.shape= (23068,) w.shape= (23068,)\n",
            "columns= Index([u'nJets', u'nBTags_70', u'pT_jet1', u'Mbb_MindR_70', u'pT_jet5',\n",
            "       u'H1_all', u'dRbb_avg_70', u'dRlepbb_MindR_70', u'Muu_MindR_70',\n",
            "       u'HT_jets', u'Mbb_MaxPt_70', u'Mbb_MaxM_70', u'Mjjj_MaxPt',\n",
            "       u'Centrality_all'],\n",
            "      dtype='object')\n",
            "categories= [0, 1]\n",
            "\n",
            "sum of weights per category\n",
            "       all 1464.08896891\n",
            "         0 1457.10675797\n",
            "         1 6.98221093499\n",
            "\n",
            "\n",
            "average\n",
            "  variable/class        all          0          1\n",
            "           nJets       6.99       6.99       7.43\n",
            "       nBTags_70       4.06       4.06        4.1\n",
            "         pT_jet1   1.77e+05   1.77e+05   2.96e+05\n",
            "    Mbb_MindR_70   7.76e+04   7.73e+04   1.33e+05\n",
            "         pT_jet5   5.06e+04   5.05e+04   6.68e+04\n",
            "          H1_all      0.226      0.227      0.182\n",
            "     dRbb_avg_70       2.28       2.28       2.42\n",
            "dRlepbb_MindR_70       2.31       2.31       2.17\n",
            "    Muu_MindR_70   1.05e+05   1.05e+05   1.06e+05\n",
            "         HT_jets   5.69e+05   5.68e+05   8.62e+05\n",
            "    Mbb_MaxPt_70   1.66e+05   1.66e+05   2.75e+05\n",
            "     Mbb_MaxM_70   3.18e+05   3.17e+05   5.08e+05\n",
            "      Mjjj_MaxPt   3.03e+05   3.02e+05    4.3e+05\n",
            "  Centrality_all      0.566      0.566      0.608\n",
            "\n",
            "\n",
            "variance\n",
            "  variable/class        all          0          1\n",
            "           nJets       1.32       1.32       1.73\n",
            "       nBTags_70     0.0668     0.0667      0.101\n",
            "         pT_jet1   1.06e+10   1.05e+10   1.12e+10\n",
            "    Mbb_MindR_70    2.5e+09   2.47e+09   7.36e+09\n",
            "         pT_jet5   4.01e+08   3.98e+08   7.05e+08\n",
            "          H1_all     0.0464     0.0465     0.0334\n",
            "     dRbb_avg_70      0.159      0.159      0.133\n",
            "dRlepbb_MindR_70      0.789      0.789       0.87\n",
            "    Muu_MindR_70   1.02e+10   1.02e+10   1.12e+10\n",
            "         HT_jets   5.91e+10   5.87e+10   5.73e+10\n",
            "    Mbb_MaxPt_70   1.86e+10   1.85e+10   3.25e+10\n",
            "     Mbb_MaxM_70   3.65e+10   3.63e+10   4.26e+10\n",
            "      Mjjj_MaxPt   4.93e+10   4.91e+10    6.8e+10\n",
            "  Centrality_all      0.019      0.019     0.0169\n",
            "\n",
            "\n",
            "X.shape= (23068, 14) y.shape= (23068,) w.shape= (23068,)\n",
            "columns= Index([u'nJets', u'nBTags_70', u'pT_jet1', u'Mbb_MindR_70', u'pT_jet5',\n",
            "       u'H1_all', u'dRbb_avg_70', u'dRlepbb_MindR_70', u'Muu_MindR_70',\n",
            "       u'HT_jets', u'Mbb_MaxPt_70', u'Mbb_MaxM_70', u'Mjjj_MaxPt',\n",
            "       u'Centrality_all'],\n",
            "      dtype='object')\n",
            "categories= [0, 1]\n",
            "\n",
            "sum of weights per category\n",
            "       all        1.0\n",
            "         0        0.5\n",
            "         1        0.5\n",
            "\n",
            "\n",
            "average\n",
            "  variable/class        all          0          1\n",
            "           nJets       7.21       6.99       7.43\n",
            "       nBTags_70       4.08       4.06        4.1\n",
            "         pT_jet1   2.36e+05   1.77e+05   2.96e+05\n",
            "    Mbb_MindR_70   1.05e+05   7.73e+04   1.33e+05\n",
            "         pT_jet5   5.86e+04   5.05e+04   6.68e+04\n",
            "          H1_all      0.204      0.227      0.182\n",
            "     dRbb_avg_70       2.35       2.28       2.42\n",
            "dRlepbb_MindR_70       2.24       2.31       2.17\n",
            "    Muu_MindR_70   1.05e+05   1.05e+05   1.06e+05\n",
            "         HT_jets   7.15e+05   5.68e+05   8.62e+05\n",
            "    Mbb_MaxPt_70    2.2e+05   1.66e+05   2.75e+05\n",
            "     Mbb_MaxM_70   4.12e+05   3.17e+05   5.08e+05\n",
            "      Mjjj_MaxPt   3.66e+05   3.02e+05    4.3e+05\n",
            "  Centrality_all      0.587      0.566      0.608\n",
            "\n",
            "\n",
            "variance\n",
            "  variable/class        all          0          1\n",
            "           nJets       1.57       1.32       1.73\n",
            "       nBTags_70     0.0844     0.0667      0.101\n",
            "         pT_jet1   1.44e+10   1.05e+10   1.12e+10\n",
            "    Mbb_MindR_70   5.68e+09   2.47e+09   7.36e+09\n",
            "         pT_jet5   6.18e+08   3.98e+08   7.05e+08\n",
            "          H1_all     0.0404     0.0465     0.0334\n",
            "     dRbb_avg_70      0.151      0.159      0.133\n",
            "dRlepbb_MindR_70      0.835      0.789       0.87\n",
            "    Muu_MindR_70   1.07e+10   1.02e+10   1.12e+10\n",
            "         HT_jets   7.96e+10   5.87e+10   5.73e+10\n",
            "    Mbb_MaxPt_70   2.85e+10   1.85e+10   3.25e+10\n",
            "     Mbb_MaxM_70   4.86e+10   3.63e+10   4.26e+10\n",
            "      Mjjj_MaxPt   6.26e+10   4.91e+10    6.8e+10\n",
            "  Centrality_all     0.0184      0.019     0.0169\n",
            "\n",
            "\n"
          ],
          "name": "stdout"
        },
        {
          "output_type": "execute_result",
          "data": {
            "text/plain": [
              "GradientBoostingClassifier(criterion='friedman_mse', init=None,\n",
              "              learning_rate=0.13, loss='deviance', max_depth=5,\n",
              "              max_features=None, max_leaf_nodes=None,\n",
              "              min_impurity_decrease=0.0, min_impurity_split=None,\n",
              "              min_samples_leaf=1, min_samples_split=2,\n",
              "              min_weight_fraction_leaf=0.01, n_estimators=120,\n",
              "              n_iter_no_change=None, presort='auto', random_state=0,\n",
              "              subsample=1.0, tol=0.0001, validation_fraction=0.1,\n",
              "              verbose=0, warm_start=False)"
            ]
          },
          "metadata": {
            "tags": []
          },
          "execution_count": 148
        }
      ]
    },
    {
      "metadata": {
        "id": "4m1IP22z-2Mc",
        "colab_type": "code",
        "colab": {
          "base_uri": "https://localhost:8080/",
          "height": 35
        },
        "outputId": "ebf61e21-e5c2-473e-ba46-b335e9148985"
      },
      "cell_type": "code",
      "source": [
        "print roc_auc_score(ybdt_test, clf.decision_function(Xbdt_test), sample_weight=wbdt_test)"
      ],
      "execution_count": 149,
      "outputs": [
        {
          "output_type": "stream",
          "text": [
            "0.8837703139912665\n"
          ],
          "name": "stdout"
        }
      ]
    },
    {
      "metadata": {
        "id": "6bYYLlW9_lfA",
        "colab_type": "code",
        "colab": {}
      },
      "cell_type": "code",
      "source": [
        ""
      ],
      "execution_count": 0,
      "outputs": []
    }
  ]
}